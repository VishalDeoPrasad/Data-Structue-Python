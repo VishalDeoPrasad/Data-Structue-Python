{
 "cells": [
  {
   "cell_type": "code",
   "execution_count": 90,
   "metadata": {},
   "outputs": [
    {
     "name": "stdout",
     "output_type": "stream",
     "text": [
      "6\n",
      "15-->10-->5-->4-->1000-->3-->\n"
     ]
    }
   ],
   "source": [
    "class Node:\n",
    "    def __init__(self, data=None, next=None):\n",
    "        self.data = data\n",
    "        self.next = next\n",
    "\n",
    "class linked_list:\n",
    "    def __init__(self):\n",
    "        self.head = None #crate a empty linked List and later we will insert node to this linked list\n",
    "    \n",
    "    def insert_at_begining(self, data):\n",
    "        node = Node(data, self.head) #create the node and give data and \n",
    "        self.head = node\n",
    "    \n",
    "    def insert_at_end(self, data):\n",
    "        if self.head is None:     #if our linked list is empty the direct inset \n",
    "            self.head = Node(data)\n",
    "            return\n",
    "\n",
    "        itr = self.head\n",
    "        while itr.next:\n",
    "            itr = itr.next\n",
    "        itr.next = Node(data)\n",
    "    \n",
    "    def insert_at(self, index, data):\n",
    "        if index < 0 or index > self.get_length():\n",
    "            raise Exception(\"Invalid Index!\")\n",
    "        \n",
    "        if index == 0:\n",
    "            self.insert_at_begining(data)\n",
    "            return\n",
    "        \n",
    "        itr = self.head\n",
    "        cnt = 0\n",
    "        while itr:\n",
    "            if cnt == index - 1:\n",
    "                node = Node(data, itr.next)\n",
    "                itr.next = node\n",
    "                break\n",
    "            itr = itr.next\n",
    "            cnt += 1\n",
    "            \n",
    "    def get_length(self):\n",
    "        count = 0\n",
    "        itr = self.head\n",
    "        while itr:\n",
    "            count += 1\n",
    "            itr = itr.next\n",
    "        return count\n",
    "\n",
    "    def print(self):\n",
    "        itr = self.head\n",
    "        llist = \"\"\n",
    "        while itr:\n",
    "            llist += str(itr.data) + \"-->\"\n",
    "            itr = itr.next\n",
    "        print(llist)\n",
    "\n",
    "root = linked_list()\n",
    "root.insert_at_begining(5)\n",
    "root.insert_at_begining(10)\n",
    "root.insert_at_begining(15)\n",
    "root.insert_at_end(4)\n",
    "root.insert_at_end(3)\n",
    "root.insert_at(4, 1000)\n",
    "\n",
    "print(root.get_length())\n",
    "root.print()\n"
   ]
  },
  {
   "cell_type": "code",
   "execution_count": null,
   "metadata": {},
   "outputs": [],
   "source": []
  },
  {
   "cell_type": "code",
   "execution_count": null,
   "metadata": {},
   "outputs": [],
   "source": []
  },
  {
   "cell_type": "code",
   "execution_count": null,
   "metadata": {},
   "outputs": [],
   "source": []
  },
  {
   "cell_type": "code",
   "execution_count": 91,
   "metadata": {},
   "outputs": [],
   "source": [
    "class Node:\n",
    "    def __init__(self, data=None, next=None):\n",
    "        self.data = data\n",
    "        self.next = next\n",
    "\n",
    "class linkedList:\n",
    "    def __init__(self):\n",
    "        self.head = None\n",
    "    \n",
    "    def insert_at_begining(self, data):\n",
    "        self.head = Node(data, self.head)\n",
    "\n",
    "    def insert_at_ending(self, data):\n",
    "        if self.head is None:\n",
    "            self.insert_at_begining(data)\n",
    "            return\n",
    "        \n",
    "        itr = self.head\n",
    "        while itr.next:\n",
    "            itr = itr.next\n",
    "        itr.next = Node(data)  \n",
    "\n",
    "    def get_length(self):\n",
    "        itr = self.head\n",
    "        cnt = 0\n",
    "        while itr:\n",
    "            cnt += 1\n",
    "            itr = itr.next\n",
    "        return cnt\n",
    "    \n",
    "    def insert_at(self, data, index):\n",
    "        if index < 0 or index > self.get_length():\n",
    "            raise Exception(\"Invalid Index!\")\n",
    "\n",
    "        if index == 0:\n",
    "            self.insert_at_begining(data)\n",
    "            return \n",
    "\n",
    "        itr = self.head\n",
    "        cnt = 0\n",
    "        while itr:\n",
    "            if cnt == index - 1:\n",
    "                itr.next = Node(data, itr.next)\n",
    "            itr = itr.next\n",
    "            cnt += 1\n",
    "    \n",
    "    def print(self):\n",
    "        itr = self.head\n",
    "        llist = \" \"\n",
    "        while itr:\n",
    "            llist = llist + str(itr.data) + \"-->\"\n",
    "            itr = itr.next\n",
    "        print(llist)"
   ]
  },
  {
   "cell_type": "code",
   "execution_count": 94,
   "metadata": {},
   "outputs": [
    {
     "name": "stdout",
     "output_type": "stream",
     "text": [
      " 100-->4-->20-->3-->2-->0-->10-->20-->30-->\n"
     ]
    }
   ],
   "source": [
    "l = linkedList()\n",
    "l.insert_at(0, 0)\n",
    "l.insert_at_begining(2)\n",
    "l.insert_at_begining(3)\n",
    "l.insert_at_begining(4)\n",
    "l.insert_at_ending(10)\n",
    "l.insert_at_ending(20)\n",
    "l.insert_at_ending(30)\n",
    "l.insert_at(20, 1)\n",
    "l.insert_at(100, 0)\n",
    "l.get_length()\n",
    "l.print()"
   ]
  },
  {
   "cell_type": "code",
   "execution_count": null,
   "metadata": {},
   "outputs": [],
   "source": []
  },
  {
   "cell_type": "code",
   "execution_count": null,
   "metadata": {},
   "outputs": [],
   "source": []
  }
 ],
 "metadata": {
  "kernelspec": {
   "display_name": "Python 3",
   "language": "python",
   "name": "python3"
  },
  "language_info": {
   "codemirror_mode": {
    "name": "ipython",
    "version": 3
   },
   "file_extension": ".py",
   "mimetype": "text/x-python",
   "name": "python",
   "nbconvert_exporter": "python",
   "pygments_lexer": "ipython3",
   "version": "3.10.9"
  },
  "orig_nbformat": 4,
  "vscode": {
   "interpreter": {
    "hash": "f8048d823ac758c079b9f29ef30bbbc9b1138746b4add2d8fb5759ec4a242e2c"
   }
  }
 },
 "nbformat": 4,
 "nbformat_minor": 2
}
