{
 "cells": [
  {
   "cell_type": "code",
   "execution_count": 5,
   "metadata": {},
   "outputs": [
    {
     "name": "stdout",
     "output_type": "stream",
     "text": [
      "5\n"
     ]
    },
    {
     "ename": "TypeError",
     "evalue": "'>' not supported between instances of 'int' and 'NoneType'",
     "output_type": "error",
     "traceback": [
      "\u001b[1;31m---------------------------------------------------------------------------\u001b[0m",
      "\u001b[1;31mTypeError\u001b[0m                                 Traceback (most recent call last)",
      "Cell \u001b[1;32mIn[5], line 64\u001b[0m\n\u001b[0;32m     62\u001b[0m l\u001b[39m.\u001b[39minsert_at_end(\u001b[39m5\u001b[39m)\n\u001b[0;32m     63\u001b[0m l\u001b[39m.\u001b[39minsert_at_end(\u001b[39m3\u001b[39m)\n\u001b[1;32m---> 64\u001b[0m l\u001b[39m.\u001b[39;49minsert_at(\u001b[39m4\u001b[39;49m, \u001b[39m1000\u001b[39;49m)\n\u001b[0;32m     65\u001b[0m l\u001b[39m.\u001b[39mget_length()\n\u001b[0;32m     66\u001b[0m l\u001b[39m.\u001b[39mprint()\n",
      "Cell \u001b[1;32mIn[5], line 25\u001b[0m, in \u001b[0;36mlinkedlist.insert_at\u001b[1;34m(self, index, data)\u001b[0m\n\u001b[0;32m     24\u001b[0m \u001b[39mdef\u001b[39;00m \u001b[39minsert_at\u001b[39m(\u001b[39mself\u001b[39m, index, data):\n\u001b[1;32m---> 25\u001b[0m     \u001b[39mif\u001b[39;00m index \u001b[39m<\u001b[39m \u001b[39m0\u001b[39m \u001b[39mor\u001b[39;00m index \u001b[39m>\u001b[39;49m \u001b[39mself\u001b[39;49m\u001b[39m.\u001b[39;49mget_length():\n\u001b[0;32m     26\u001b[0m         \u001b[39mraise\u001b[39;00m \u001b[39mException\u001b[39;00m(\u001b[39m\"\u001b[39m\u001b[39mInvalid Index!\u001b[39m\u001b[39m\"\u001b[39m)\n\u001b[0;32m     28\u001b[0m     \u001b[39mif\u001b[39;00m index \u001b[39m==\u001b[39m \u001b[39m0\u001b[39m:\n",
      "\u001b[1;31mTypeError\u001b[0m: '>' not supported between instances of 'int' and 'NoneType'"
     ]
    }
   ],
   "source": [
    "class Node:\n",
    "    def __init__(self, data=None, next=None):\n",
    "        self.data = data\n",
    "        self.next = next\n",
    "\n",
    "class linkedlist:\n",
    "    def __init__(self):\n",
    "        self.head = None\n",
    "\n",
    "    def insert_at_begining(self, data):\n",
    "        node = Node(data, self.head)\n",
    "        self.head = node\n",
    "\n",
    "    def insert_at_end(self, data):\n",
    "        itr = self.head\n",
    "        if itr is None:\n",
    "            self.insert_at_begining(data)\n",
    "            return\n",
    "\n",
    "        while itr.next:\n",
    "            itr = itr.next\n",
    "        itr.next = Node(data)\n",
    "    \n",
    "    def insert_at(self, index, data):\n",
    "        if index < 0 or index > self.get_length():\n",
    "            raise Exception(\"Invalid Index!\")\n",
    "        \n",
    "        if index == 0:\n",
    "            self.insert_at_begining(data)\n",
    "            return\n",
    "        \n",
    "        itr = self.head\n",
    "        cnt = 0\n",
    "        while itr:\n",
    "            if cnt == index - 1:\n",
    "                node = Node(data, itr.next)\n",
    "                itr.next = node\n",
    "                break\n",
    "            itr = itr.next\n",
    "            cnt += 1\n",
    "        \n",
    "    def get_length(self):\n",
    "        cnt = 0\n",
    "        itr = self.head\n",
    "        while itr:\n",
    "            cnt += 1\n",
    "            itr = itr.next\n",
    "        print(cnt)\n",
    "\n",
    "    def print(self):\n",
    "        llist = \"\"\n",
    "        itr = self.head\n",
    "        while itr:\n",
    "            llist = llist + str(itr.data) + '-->'\n",
    "            itr = itr.next\n",
    "        print(llist)\n",
    "\n",
    "l = linkedlist()\n",
    "l.insert_at_begining(10)\n",
    "l.insert_at_begining(20)\n",
    "l.insert_at_begining(30)\n",
    "l.insert_at_end(5)\n",
    "l.insert_at_end(3)\n",
    "l.insert_at(4, 1000)\n",
    "l.get_length()\n",
    "l.print()\n",
    "\n",
    "l"
   ]
  },
  {
   "cell_type": "code",
   "execution_count": 8,
   "metadata": {},
   "outputs": [
    {
     "ename": "NameError",
     "evalue": "name 'self' is not defined",
     "output_type": "error",
     "traceback": [
      "\u001b[1;31m---------------------------------------------------------------------------\u001b[0m",
      "\u001b[1;31mNameError\u001b[0m                                 Traceback (most recent call last)",
      "Cell \u001b[1;32mIn[8], line 1\u001b[0m\n\u001b[1;32m----> 1\u001b[0m \u001b[39mself\u001b[39;49m\u001b[39m.\u001b[39mhead\n",
      "\u001b[1;31mNameError\u001b[0m: name 'self' is not defined"
     ]
    }
   ],
   "source": []
  }
 ],
 "metadata": {
  "kernelspec": {
   "display_name": "Python 3",
   "language": "python",
   "name": "python3"
  },
  "language_info": {
   "codemirror_mode": {
    "name": "ipython",
    "version": 3
   },
   "file_extension": ".py",
   "mimetype": "text/x-python",
   "name": "python",
   "nbconvert_exporter": "python",
   "pygments_lexer": "ipython3",
   "version": "3.10.9"
  },
  "orig_nbformat": 4,
  "vscode": {
   "interpreter": {
    "hash": "f8048d823ac758c079b9f29ef30bbbc9b1138746b4add2d8fb5759ec4a242e2c"
   }
  }
 },
 "nbformat": 4,
 "nbformat_minor": 2
}
